{
  "nbformat": 4,
  "nbformat_minor": 0,
  "metadata": {
    "colab": {
      "provenance": []
    },
    "kernelspec": {
      "name": "python3",
      "display_name": "Python 3"
    },
    "language_info": {
      "name": "python"
    }
  },
  "cells": [
    {
      "cell_type": "code",
      "execution_count": null,
      "metadata": {
        "colab": {
          "base_uri": "https://localhost:8080/"
        },
        "id": "_0eifoFYu0_x",
        "outputId": "f011259a-5723-4712-81f1-da42a169115b"
      },
      "outputs": [
        {
          "output_type": "stream",
          "name": "stdout",
          "text": [
            "Drive already mounted at /content/drive; to attempt to forcibly remount, call drive.mount(\"/content/drive\", force_remount=True).\n"
          ]
        }
      ],
      "source": [
        "from google.colab import drive\n",
        "drive.mount('/content/drive')"
      ]
    },
    {
      "cell_type": "code",
      "source": [
        "import pandas as pd\n",
        "import numpy as np\n",
        "from sklearn.preprocessing import LabelEncoder, StandardScaler, MinMaxScaler\n",
        "from sklearn.model_selection import train_test_split\n",
        "from sklearn.linear_model import LinearRegression, LogisticRegression\n",
        "from sklearn.metrics import mean_squared_error, accuracy_score\n",
        "import seaborn as sns\n",
        "import matplotlib.pyplot as plt"
      ],
      "metadata": {
        "id": "-bhk5tUFvqAu"
      },
      "execution_count": null,
      "outputs": []
    },
    {
      "cell_type": "code",
      "source": [
        "df = pd.read_csv('/content/Ford Car Price Prediction.csv')\n",
        "df.head(3)"
      ],
      "metadata": {
        "colab": {
          "base_uri": "https://localhost:8080/",
          "height": 143
        },
        "id": "QKZAeVg_waXv",
        "outputId": "d882e217-bce5-45b3-ce99-7ddd55f48808"
      },
      "execution_count": null,
      "outputs": [
        {
          "output_type": "execute_result",
          "data": {
            "text/plain": [
              "     model  year  price transmission  mileage fuelType  tax   mpg  engineSize\n",
              "0   Fiesta  2017  12000    Automatic    15944   Petrol  NaN  57.7         1.0\n",
              "1    Focus  2018  14000       Manual     9083   Petrol  NaN  57.7         1.0\n",
              "2    Focus  2017  13000       Manual    12456   Petrol  NaN  57.7         1.0"
            ],
            "text/html": [
              "\n",
              "  <div id=\"df-c1b8b9f1-fa5a-4ed2-9bde-9db393ee67c9\" class=\"colab-df-container\">\n",
              "    <div>\n",
              "<style scoped>\n",
              "    .dataframe tbody tr th:only-of-type {\n",
              "        vertical-align: middle;\n",
              "    }\n",
              "\n",
              "    .dataframe tbody tr th {\n",
              "        vertical-align: top;\n",
              "    }\n",
              "\n",
              "    .dataframe thead th {\n",
              "        text-align: right;\n",
              "    }\n",
              "</style>\n",
              "<table border=\"1\" class=\"dataframe\">\n",
              "  <thead>\n",
              "    <tr style=\"text-align: right;\">\n",
              "      <th></th>\n",
              "      <th>model</th>\n",
              "      <th>year</th>\n",
              "      <th>price</th>\n",
              "      <th>transmission</th>\n",
              "      <th>mileage</th>\n",
              "      <th>fuelType</th>\n",
              "      <th>tax</th>\n",
              "      <th>mpg</th>\n",
              "      <th>engineSize</th>\n",
              "    </tr>\n",
              "  </thead>\n",
              "  <tbody>\n",
              "    <tr>\n",
              "      <th>0</th>\n",
              "      <td>Fiesta</td>\n",
              "      <td>2017</td>\n",
              "      <td>12000</td>\n",
              "      <td>Automatic</td>\n",
              "      <td>15944</td>\n",
              "      <td>Petrol</td>\n",
              "      <td>NaN</td>\n",
              "      <td>57.7</td>\n",
              "      <td>1.0</td>\n",
              "    </tr>\n",
              "    <tr>\n",
              "      <th>1</th>\n",
              "      <td>Focus</td>\n",
              "      <td>2018</td>\n",
              "      <td>14000</td>\n",
              "      <td>Manual</td>\n",
              "      <td>9083</td>\n",
              "      <td>Petrol</td>\n",
              "      <td>NaN</td>\n",
              "      <td>57.7</td>\n",
              "      <td>1.0</td>\n",
              "    </tr>\n",
              "    <tr>\n",
              "      <th>2</th>\n",
              "      <td>Focus</td>\n",
              "      <td>2017</td>\n",
              "      <td>13000</td>\n",
              "      <td>Manual</td>\n",
              "      <td>12456</td>\n",
              "      <td>Petrol</td>\n",
              "      <td>NaN</td>\n",
              "      <td>57.7</td>\n",
              "      <td>1.0</td>\n",
              "    </tr>\n",
              "  </tbody>\n",
              "</table>\n",
              "</div>\n",
              "    <div class=\"colab-df-buttons\">\n",
              "\n",
              "  <div class=\"colab-df-container\">\n",
              "    <button class=\"colab-df-convert\" onclick=\"convertToInteractive('df-c1b8b9f1-fa5a-4ed2-9bde-9db393ee67c9')\"\n",
              "            title=\"Convert this dataframe to an interactive table.\"\n",
              "            style=\"display:none;\">\n",
              "\n",
              "  <svg xmlns=\"http://www.w3.org/2000/svg\" height=\"24px\" viewBox=\"0 -960 960 960\">\n",
              "    <path d=\"M120-120v-720h720v720H120Zm60-500h600v-160H180v160Zm220 220h160v-160H400v160Zm0 220h160v-160H400v160ZM180-400h160v-160H180v160Zm440 0h160v-160H620v160ZM180-180h160v-160H180v160Zm440 0h160v-160H620v160Z\"/>\n",
              "  </svg>\n",
              "    </button>\n",
              "\n",
              "  <style>\n",
              "    .colab-df-container {\n",
              "      display:flex;\n",
              "      gap: 12px;\n",
              "    }\n",
              "\n",
              "    .colab-df-convert {\n",
              "      background-color: #E8F0FE;\n",
              "      border: none;\n",
              "      border-radius: 50%;\n",
              "      cursor: pointer;\n",
              "      display: none;\n",
              "      fill: #1967D2;\n",
              "      height: 32px;\n",
              "      padding: 0 0 0 0;\n",
              "      width: 32px;\n",
              "    }\n",
              "\n",
              "    .colab-df-convert:hover {\n",
              "      background-color: #E2EBFA;\n",
              "      box-shadow: 0px 1px 2px rgba(60, 64, 67, 0.3), 0px 1px 3px 1px rgba(60, 64, 67, 0.15);\n",
              "      fill: #174EA6;\n",
              "    }\n",
              "\n",
              "    .colab-df-buttons div {\n",
              "      margin-bottom: 4px;\n",
              "    }\n",
              "\n",
              "    [theme=dark] .colab-df-convert {\n",
              "      background-color: #3B4455;\n",
              "      fill: #D2E3FC;\n",
              "    }\n",
              "\n",
              "    [theme=dark] .colab-df-convert:hover {\n",
              "      background-color: #434B5C;\n",
              "      box-shadow: 0px 1px 3px 1px rgba(0, 0, 0, 0.15);\n",
              "      filter: drop-shadow(0px 1px 2px rgba(0, 0, 0, 0.3));\n",
              "      fill: #FFFFFF;\n",
              "    }\n",
              "  </style>\n",
              "\n",
              "    <script>\n",
              "      const buttonEl =\n",
              "        document.querySelector('#df-c1b8b9f1-fa5a-4ed2-9bde-9db393ee67c9 button.colab-df-convert');\n",
              "      buttonEl.style.display =\n",
              "        google.colab.kernel.accessAllowed ? 'block' : 'none';\n",
              "\n",
              "      async function convertToInteractive(key) {\n",
              "        const element = document.querySelector('#df-c1b8b9f1-fa5a-4ed2-9bde-9db393ee67c9');\n",
              "        const dataTable =\n",
              "          await google.colab.kernel.invokeFunction('convertToInteractive',\n",
              "                                                    [key], {});\n",
              "        if (!dataTable) return;\n",
              "\n",
              "        const docLinkHtml = 'Like what you see? Visit the ' +\n",
              "          '<a target=\"_blank\" href=https://colab.research.google.com/notebooks/data_table.ipynb>data table notebook</a>'\n",
              "          + ' to learn more about interactive tables.';\n",
              "        element.innerHTML = '';\n",
              "        dataTable['output_type'] = 'display_data';\n",
              "        await google.colab.output.renderOutput(dataTable, element);\n",
              "        const docLink = document.createElement('div');\n",
              "        docLink.innerHTML = docLinkHtml;\n",
              "        element.appendChild(docLink);\n",
              "      }\n",
              "    </script>\n",
              "  </div>\n",
              "\n",
              "\n",
              "<div id=\"df-6ed21d3c-5191-4c2a-b06c-d5ba5b99400d\">\n",
              "  <button class=\"colab-df-quickchart\" onclick=\"quickchart('df-6ed21d3c-5191-4c2a-b06c-d5ba5b99400d')\"\n",
              "            title=\"Suggest charts\"\n",
              "            style=\"display:none;\">\n",
              "\n",
              "<svg xmlns=\"http://www.w3.org/2000/svg\" height=\"24px\"viewBox=\"0 0 24 24\"\n",
              "     width=\"24px\">\n",
              "    <g>\n",
              "        <path d=\"M19 3H5c-1.1 0-2 .9-2 2v14c0 1.1.9 2 2 2h14c1.1 0 2-.9 2-2V5c0-1.1-.9-2-2-2zM9 17H7v-7h2v7zm4 0h-2V7h2v10zm4 0h-2v-4h2v4z\"/>\n",
              "    </g>\n",
              "</svg>\n",
              "  </button>\n",
              "\n",
              "<style>\n",
              "  .colab-df-quickchart {\n",
              "      --bg-color: #E8F0FE;\n",
              "      --fill-color: #1967D2;\n",
              "      --hover-bg-color: #E2EBFA;\n",
              "      --hover-fill-color: #174EA6;\n",
              "      --disabled-fill-color: #AAA;\n",
              "      --disabled-bg-color: #DDD;\n",
              "  }\n",
              "\n",
              "  [theme=dark] .colab-df-quickchart {\n",
              "      --bg-color: #3B4455;\n",
              "      --fill-color: #D2E3FC;\n",
              "      --hover-bg-color: #434B5C;\n",
              "      --hover-fill-color: #FFFFFF;\n",
              "      --disabled-bg-color: #3B4455;\n",
              "      --disabled-fill-color: #666;\n",
              "  }\n",
              "\n",
              "  .colab-df-quickchart {\n",
              "    background-color: var(--bg-color);\n",
              "    border: none;\n",
              "    border-radius: 50%;\n",
              "    cursor: pointer;\n",
              "    display: none;\n",
              "    fill: var(--fill-color);\n",
              "    height: 32px;\n",
              "    padding: 0;\n",
              "    width: 32px;\n",
              "  }\n",
              "\n",
              "  .colab-df-quickchart:hover {\n",
              "    background-color: var(--hover-bg-color);\n",
              "    box-shadow: 0 1px 2px rgba(60, 64, 67, 0.3), 0 1px 3px 1px rgba(60, 64, 67, 0.15);\n",
              "    fill: var(--button-hover-fill-color);\n",
              "  }\n",
              "\n",
              "  .colab-df-quickchart-complete:disabled,\n",
              "  .colab-df-quickchart-complete:disabled:hover {\n",
              "    background-color: var(--disabled-bg-color);\n",
              "    fill: var(--disabled-fill-color);\n",
              "    box-shadow: none;\n",
              "  }\n",
              "\n",
              "  .colab-df-spinner {\n",
              "    border: 2px solid var(--fill-color);\n",
              "    border-color: transparent;\n",
              "    border-bottom-color: var(--fill-color);\n",
              "    animation:\n",
              "      spin 1s steps(1) infinite;\n",
              "  }\n",
              "\n",
              "  @keyframes spin {\n",
              "    0% {\n",
              "      border-color: transparent;\n",
              "      border-bottom-color: var(--fill-color);\n",
              "      border-left-color: var(--fill-color);\n",
              "    }\n",
              "    20% {\n",
              "      border-color: transparent;\n",
              "      border-left-color: var(--fill-color);\n",
              "      border-top-color: var(--fill-color);\n",
              "    }\n",
              "    30% {\n",
              "      border-color: transparent;\n",
              "      border-left-color: var(--fill-color);\n",
              "      border-top-color: var(--fill-color);\n",
              "      border-right-color: var(--fill-color);\n",
              "    }\n",
              "    40% {\n",
              "      border-color: transparent;\n",
              "      border-right-color: var(--fill-color);\n",
              "      border-top-color: var(--fill-color);\n",
              "    }\n",
              "    60% {\n",
              "      border-color: transparent;\n",
              "      border-right-color: var(--fill-color);\n",
              "    }\n",
              "    80% {\n",
              "      border-color: transparent;\n",
              "      border-right-color: var(--fill-color);\n",
              "      border-bottom-color: var(--fill-color);\n",
              "    }\n",
              "    90% {\n",
              "      border-color: transparent;\n",
              "      border-bottom-color: var(--fill-color);\n",
              "    }\n",
              "  }\n",
              "</style>\n",
              "\n",
              "  <script>\n",
              "    async function quickchart(key) {\n",
              "      const quickchartButtonEl =\n",
              "        document.querySelector('#' + key + ' button');\n",
              "      quickchartButtonEl.disabled = true;  // To prevent multiple clicks.\n",
              "      quickchartButtonEl.classList.add('colab-df-spinner');\n",
              "      try {\n",
              "        const charts = await google.colab.kernel.invokeFunction(\n",
              "            'suggestCharts', [key], {});\n",
              "      } catch (error) {\n",
              "        console.error('Error during call to suggestCharts:', error);\n",
              "      }\n",
              "      quickchartButtonEl.classList.remove('colab-df-spinner');\n",
              "      quickchartButtonEl.classList.add('colab-df-quickchart-complete');\n",
              "    }\n",
              "    (() => {\n",
              "      let quickchartButtonEl =\n",
              "        document.querySelector('#df-6ed21d3c-5191-4c2a-b06c-d5ba5b99400d button');\n",
              "      quickchartButtonEl.style.display =\n",
              "        google.colab.kernel.accessAllowed ? 'block' : 'none';\n",
              "    })();\n",
              "  </script>\n",
              "</div>\n",
              "\n",
              "    </div>\n",
              "  </div>\n"
            ],
            "application/vnd.google.colaboratory.intrinsic+json": {
              "type": "dataframe",
              "variable_name": "df",
              "summary": "{\n  \"name\": \"df\",\n  \"rows\": 17966,\n  \"fields\": [\n    {\n      \"column\": \"model\",\n      \"properties\": {\n        \"dtype\": \"category\",\n        \"num_unique_values\": 24,\n        \"samples\": [\n          \" Tourneo Custom\",\n          \" Mustang\",\n          \" Fiesta\"\n        ],\n        \"semantic_type\": \"\",\n        \"description\": \"\"\n      }\n    },\n    {\n      \"column\": \"year\",\n      \"properties\": {\n        \"dtype\": \"number\",\n        \"std\": 2,\n        \"min\": 1996,\n        \"max\": 2060,\n        \"num_unique_values\": 23,\n        \"samples\": [\n          2005,\n          2008,\n          2017\n        ],\n        \"semantic_type\": \"\",\n        \"description\": \"\"\n      }\n    },\n    {\n      \"column\": \"price\",\n      \"properties\": {\n        \"dtype\": \"number\",\n        \"std\": 4741,\n        \"min\": 495,\n        \"max\": 54995,\n        \"num_unique_values\": 3511,\n        \"samples\": [\n          12460,\n          11590,\n          13710\n        ],\n        \"semantic_type\": \"\",\n        \"description\": \"\"\n      }\n    },\n    {\n      \"column\": \"transmission\",\n      \"properties\": {\n        \"dtype\": \"category\",\n        \"num_unique_values\": 3,\n        \"samples\": [\n          \"Automatic\",\n          \"Manual\",\n          \"Semi-Auto\"\n        ],\n        \"semantic_type\": \"\",\n        \"description\": \"\"\n      }\n    },\n    {\n      \"column\": \"mileage\",\n      \"properties\": {\n        \"dtype\": \"number\",\n        \"std\": 19472,\n        \"min\": 1,\n        \"max\": 177644,\n        \"num_unique_values\": 13528,\n        \"samples\": [\n          9210,\n          3600,\n          20362\n        ],\n        \"semantic_type\": \"\",\n        \"description\": \"\"\n      }\n    },\n    {\n      \"column\": \"fuelType\",\n      \"properties\": {\n        \"dtype\": \"category\",\n        \"num_unique_values\": 5,\n        \"samples\": [\n          \"Diesel\",\n          \"Other\",\n          \"Hybrid\"\n        ],\n        \"semantic_type\": \"\",\n        \"description\": \"\"\n      }\n    },\n    {\n      \"column\": \"tax\",\n      \"properties\": {\n        \"dtype\": \"number\",\n        \"std\": 62.023480206401075,\n        \"min\": 0.0,\n        \"max\": 580.0,\n        \"num_unique_values\": 36,\n        \"samples\": [\n          22.0,\n          205.0,\n          110.0\n        ],\n        \"semantic_type\": \"\",\n        \"description\": \"\"\n      }\n    },\n    {\n      \"column\": \"mpg\",\n      \"properties\": {\n        \"dtype\": \"number\",\n        \"std\": 10.125695709164098,\n        \"min\": 20.8,\n        \"max\": 201.8,\n        \"num_unique_values\": 90,\n        \"samples\": [\n          47.1,\n          43.5,\n          37.2\n        ],\n        \"semantic_type\": \"\",\n        \"description\": \"\"\n      }\n    },\n    {\n      \"column\": \"engineSize\",\n      \"properties\": {\n        \"dtype\": \"number\",\n        \"std\": 0.4323672724006969,\n        \"min\": 0.0,\n        \"max\": 5.0,\n        \"num_unique_values\": 16,\n        \"samples\": [\n          1.0,\n          1.5,\n          1.1\n        ],\n        \"semantic_type\": \"\",\n        \"description\": \"\"\n      }\n    }\n  ]\n}"
            }
          },
          "metadata": {},
          "execution_count": 96
        }
      ]
    },
    {
      "cell_type": "code",
      "source": [
        "df.fillna(df.select_dtypes(include=[np.number]).mean(), inplace=True)"
      ],
      "metadata": {
        "id": "LAALWUuhw1pf"
      },
      "execution_count": null,
      "outputs": []
    },
    {
      "cell_type": "code",
      "source": [
        "df.fillna(df.select_dtypes(include=['object']).mode().iloc[0], inplace=True)"
      ],
      "metadata": {
        "id": "7pLJY7DMw455"
      },
      "execution_count": null,
      "outputs": []
    },
    {
      "cell_type": "code",
      "source": [
        "print(df.isnull().sum())"
      ],
      "metadata": {
        "colab": {
          "base_uri": "https://localhost:8080/"
        },
        "id": "lUOThXxzxCE2",
        "outputId": "b2fcb396-2b8e-494f-b7b2-415c3e0ec956"
      },
      "execution_count": null,
      "outputs": [
        {
          "output_type": "stream",
          "name": "stdout",
          "text": [
            "model           0\n",
            "year            0\n",
            "price           0\n",
            "transmission    0\n",
            "mileage         0\n",
            "fuelType        0\n",
            "tax             0\n",
            "mpg             0\n",
            "engineSize      0\n",
            "dtype: int64\n"
          ]
        }
      ]
    },
    {
      "cell_type": "code",
      "source": [
        "df.dropna(inplace=True)"
      ],
      "metadata": {
        "id": "yELebw_8yCh5"
      },
      "execution_count": null,
      "outputs": []
    },
    {
      "cell_type": "code",
      "source": [
        "df.isnull().values.any()"
      ],
      "metadata": {
        "colab": {
          "base_uri": "https://localhost:8080/"
        },
        "id": "E8yL0UN_yQo7",
        "outputId": "300ee812-5f0a-4f79-8945-b846f2fd5c59"
      },
      "execution_count": null,
      "outputs": [
        {
          "output_type": "execute_result",
          "data": {
            "text/plain": [
              "False"
            ]
          },
          "metadata": {},
          "execution_count": 101
        }
      ]
    },
    {
      "cell_type": "code",
      "source": [
        "df.drop_duplicates(inplace=True)\n",
        "print(f\"Total rows after removing duplicates: {len(df)}\")"
      ],
      "metadata": {
        "colab": {
          "base_uri": "https://localhost:8080/"
        },
        "id": "0ruABRgnyi2i",
        "outputId": "71e23585-2f5f-49ef-d6c8-e95e48427ba9"
      },
      "execution_count": null,
      "outputs": [
        {
          "output_type": "stream",
          "name": "stdout",
          "text": [
            "Total rows after removing duplicates: 17812\n"
          ]
        }
      ]
    },
    {
      "cell_type": "code",
      "source": [
        "df = pd.get_dummies(df, drop_first=True)"
      ],
      "metadata": {
        "id": "A8YsiM7UzixO"
      },
      "execution_count": null,
      "outputs": []
    },
    {
      "cell_type": "code",
      "source": [
        "print(df.columns)"
      ],
      "metadata": {
        "colab": {
          "base_uri": "https://localhost:8080/"
        },
        "id": "oYzSPa6YzqNF",
        "outputId": "5ceeccb9-7420-4564-8eca-dfd5da830f3b"
      },
      "execution_count": null,
      "outputs": [
        {
          "output_type": "stream",
          "name": "stdout",
          "text": [
            "Index(['year', 'price', 'mileage', 'tax', 'mpg', 'engineSize', 'model_ C-MAX',\n",
            "       'model_ EcoSport', 'model_ Edge', 'model_ Escort', 'model_ Fiesta',\n",
            "       'model_ Focus', 'model_ Fusion', 'model_ Galaxy', 'model_ Grand C-MAX',\n",
            "       'model_ Grand Tourneo Connect', 'model_ KA', 'model_ Ka+',\n",
            "       'model_ Kuga', 'model_ Mondeo', 'model_ Mustang', 'model_ Puma',\n",
            "       'model_ Ranger', 'model_ S-MAX', 'model_ Streetka',\n",
            "       'model_ Tourneo Connect', 'model_ Tourneo Custom',\n",
            "       'model_ Transit Tourneo', 'model_Focus', 'transmission_Manual',\n",
            "       'transmission_Semi-Auto', 'fuelType_Electric', 'fuelType_Hybrid',\n",
            "       'fuelType_Other', 'fuelType_Petrol'],\n",
            "      dtype='object')\n"
          ]
        }
      ]
    },
    {
      "cell_type": "code",
      "source": [
        "df['transmission'] = df[['transmission_Manual', 'transmission_Semi-Auto']].idxmax(axis=1)\n",
        "df['transmission'] = df['transmission'].str.replace('transmission_', '')\n",
        "\n",
        "label_encoder = LabelEncoder()\n",
        "df['transmission_encoded'] = label_encoder.fit_transform(df['transmission'])\n",
        "\n",
        "print(df[['transmission', 'transmission_encoded']].head())"
      ],
      "metadata": {
        "id": "nxnLkSxT0B5o",
        "colab": {
          "base_uri": "https://localhost:8080/"
        },
        "outputId": "dc2cd43d-5b66-495c-e278-3376971139e9"
      },
      "execution_count": null,
      "outputs": [
        {
          "output_type": "stream",
          "name": "stdout",
          "text": [
            "  transmission  transmission_encoded\n",
            "0       Manual                     0\n",
            "1       Manual                     0\n",
            "2       Manual                     0\n",
            "3       Manual                     0\n",
            "4       Manual                     0\n"
          ]
        }
      ]
    },
    {
      "cell_type": "code",
      "source": [
        "df['transmission'] = df[['transmission_Manual', 'transmission_Semi-Auto']].idxmax(axis=1)\n",
        "df['transmission'] = df['transmission'].str.replace('transmission_', '')\n",
        "\n",
        "print(df[['transmission']].head())"
      ],
      "metadata": {
        "id": "xFyyHDUi0JdU",
        "colab": {
          "base_uri": "https://localhost:8080/"
        },
        "outputId": "5a29916c-32f3-4dda-f989-d7bd9e7a3fcb"
      },
      "execution_count": null,
      "outputs": [
        {
          "output_type": "stream",
          "name": "stdout",
          "text": [
            "  transmission\n",
            "0       Manual\n",
            "1       Manual\n",
            "2       Manual\n",
            "3       Manual\n",
            "4       Manual\n"
          ]
        }
      ]
    },
    {
      "cell_type": "code",
      "source": [
        "label_encoder = LabelEncoder()\n",
        "df['transmission_encoded'] = label_encoder.fit_transform(df['transmission'])\n",
        "\n",
        "print(df[['transmission', 'transmission_encoded']].head())"
      ],
      "metadata": {
        "id": "1buxhplD0PBe",
        "colab": {
          "base_uri": "https://localhost:8080/"
        },
        "outputId": "a2d39949-8711-4114-d8a1-2b981ba5ce5c"
      },
      "execution_count": null,
      "outputs": [
        {
          "output_type": "stream",
          "name": "stdout",
          "text": [
            "  transmission  transmission_encoded\n",
            "0       Manual                     0\n",
            "1       Manual                     0\n",
            "2       Manual                     0\n",
            "3       Manual                     0\n",
            "4       Manual                     0\n"
          ]
        }
      ]
    },
    {
      "cell_type": "code",
      "source": [
        "df.drop(['transmission_Manual', 'transmission_Semi-Auto'], axis=1, inplace=True)"
      ],
      "metadata": {
        "id": "07UMis-f0TxG"
      },
      "execution_count": null,
      "outputs": []
    },
    {
      "cell_type": "code",
      "source": [
        "scaler = StandardScaler()\n",
        "numerical_cols = ['price', 'mileage', 'tax', 'mpg', 'engineSize']\n",
        "df[numerical_cols] = scaler.fit_transform(df[numerical_cols])\n",
        "\n",
        "print(df[numerical_cols].head())"
      ],
      "metadata": {
        "id": "AgBpgG702bNO",
        "colab": {
          "base_uri": "https://localhost:8080/"
        },
        "outputId": "e9fd3e2c-b95a-4a8d-a942-63f4c552042b"
      },
      "execution_count": null,
      "outputs": [
        {
          "output_type": "stream",
          "name": "stdout",
          "text": [
            "      price   mileage       tax       mpg  engineSize\n",
            "0 -0.056915 -0.382994  0.000235 -0.020597   -0.810561\n",
            "1  0.365369 -0.736317  0.000235 -0.020597   -0.810561\n",
            "2  0.154227 -0.562616  0.000235 -0.020597   -0.810561\n",
            "3  1.104366 -0.665405  0.000235 -1.737858    0.345325\n",
            "4  0.893224 -1.127749  0.000235 -0.908836   -0.810561\n"
          ]
        }
      ]
    },
    {
      "cell_type": "code",
      "source": [
        "numerical_cols = ['year', 'mileage', 'tax', 'mpg', 'engineSize']\n",
        "scaler = MinMaxScaler()\n",
        "df[numerical_cols] = scaler.fit_transform(df[numerical_cols])\n",
        "\n",
        "print(df[numerical_cols].head())"
      ],
      "metadata": {
        "id": "ajpw-yJ92eW4",
        "colab": {
          "base_uri": "https://localhost:8080/"
        },
        "outputId": "888c2f19-ffe7-425a-f5c5-6c08c12633d8"
      },
      "execution_count": null,
      "outputs": [
        {
          "output_type": "stream",
          "name": "stdout",
          "text": [
            "       year   mileage       tax       mpg  engineSize\n",
            "0  0.328125  0.089747  0.195367  0.203867         0.2\n",
            "1  0.343750  0.051125  0.195367  0.203867         0.2\n",
            "2  0.328125  0.070113  0.195367  0.203867         0.2\n",
            "3  0.359375  0.058877  0.195367  0.107735         0.3\n",
            "4  0.359375  0.008337  0.195367  0.154144         0.2\n"
          ]
        }
      ]
    },
    {
      "cell_type": "code",
      "source": [
        "print(df.dtypes)"
      ],
      "metadata": {
        "colab": {
          "base_uri": "https://localhost:8080/"
        },
        "id": "W7rYCO382hdZ",
        "outputId": "d8e035a6-0aab-4897-ef08-33ca354c648d"
      },
      "execution_count": null,
      "outputs": [
        {
          "output_type": "stream",
          "name": "stdout",
          "text": [
            "year                            float64\n",
            "price                           float64\n",
            "mileage                         float64\n",
            "tax                             float64\n",
            "mpg                             float64\n",
            "engineSize                      float64\n",
            "model_ C-MAX                       bool\n",
            "model_ EcoSport                    bool\n",
            "model_ Edge                        bool\n",
            "model_ Escort                      bool\n",
            "model_ Fiesta                      bool\n",
            "model_ Focus                       bool\n",
            "model_ Fusion                      bool\n",
            "model_ Galaxy                      bool\n",
            "model_ Grand C-MAX                 bool\n",
            "model_ Grand Tourneo Connect       bool\n",
            "model_ KA                          bool\n",
            "model_ Ka+                         bool\n",
            "model_ Kuga                        bool\n",
            "model_ Mondeo                      bool\n",
            "model_ Mustang                     bool\n",
            "model_ Puma                        bool\n",
            "model_ Ranger                      bool\n",
            "model_ S-MAX                       bool\n",
            "model_ Streetka                    bool\n",
            "model_ Tourneo Connect             bool\n",
            "model_ Tourneo Custom              bool\n",
            "model_ Transit Tourneo             bool\n",
            "model_Focus                        bool\n",
            "fuelType_Electric                  bool\n",
            "fuelType_Hybrid                    bool\n",
            "fuelType_Other                     bool\n",
            "fuelType_Petrol                    bool\n",
            "transmission                     object\n",
            "transmission_encoded              int64\n",
            "dtype: object\n"
          ]
        }
      ]
    },
    {
      "cell_type": "code",
      "source": [
        "numeric_df = df.select_dtypes(include=['number'])\n",
        "correlation_matrix = numeric_df.corr()\n",
        "\n",
        "print(correlation_matrix)"
      ],
      "metadata": {
        "colab": {
          "base_uri": "https://localhost:8080/"
        },
        "id": "z5MT-DkQ2vaU",
        "outputId": "d7a41795-640e-412c-bec6-c30d3ca9ab21"
      },
      "execution_count": null,
      "outputs": [
        {
          "output_type": "stream",
          "name": "stdout",
          "text": [
            "                          year     price   mileage       tax       mpg  \\\n",
            "year                  1.000000  0.635715 -0.708690  0.297086 -0.021702   \n",
            "price                 0.635715  1.000000 -0.530483  0.405814 -0.346263   \n",
            "mileage              -0.708690 -0.530483  1.000000 -0.257402  0.117697   \n",
            "tax                   0.297086  0.405814 -0.257402  1.000000 -0.502198   \n",
            "mpg                  -0.021702 -0.346263  0.117697 -0.502198  1.000000   \n",
            "engineSize           -0.137582  0.411451  0.214692  0.185439 -0.262239   \n",
            "transmission_encoded  0.013433  0.140648 -0.029242  0.089790 -0.174245   \n",
            "\n",
            "                      engineSize  transmission_encoded  \n",
            "year                   -0.137582              0.013433  \n",
            "price                   0.411451              0.140648  \n",
            "mileage                 0.214692             -0.029242  \n",
            "tax                     0.185439              0.089790  \n",
            "mpg                    -0.262239             -0.174245  \n",
            "engineSize              1.000000              0.142181  \n",
            "transmission_encoded    0.142181              1.000000  \n"
          ]
        }
      ]
    },
    {
      "cell_type": "code",
      "source": [
        "df = df.select_dtypes(include=['number'])"
      ],
      "metadata": {
        "id": "xKNRo96620cs"
      },
      "execution_count": null,
      "outputs": []
    },
    {
      "cell_type": "code",
      "source": [
        "correlation_matrix = df.corr()\n",
        "print(correlation_matrix)"
      ],
      "metadata": {
        "colab": {
          "base_uri": "https://localhost:8080/"
        },
        "id": "aoBuH0lQ238u",
        "outputId": "7eff07e1-eafd-43a0-d2bd-10a67af5299c"
      },
      "execution_count": null,
      "outputs": [
        {
          "output_type": "stream",
          "name": "stdout",
          "text": [
            "                          year     price   mileage       tax       mpg  \\\n",
            "year                  1.000000  0.635715 -0.708690  0.297086 -0.021702   \n",
            "price                 0.635715  1.000000 -0.530483  0.405814 -0.346263   \n",
            "mileage              -0.708690 -0.530483  1.000000 -0.257402  0.117697   \n",
            "tax                   0.297086  0.405814 -0.257402  1.000000 -0.502198   \n",
            "mpg                  -0.021702 -0.346263  0.117697 -0.502198  1.000000   \n",
            "engineSize           -0.137582  0.411451  0.214692  0.185439 -0.262239   \n",
            "transmission_encoded  0.013433  0.140648 -0.029242  0.089790 -0.174245   \n",
            "\n",
            "                      engineSize  transmission_encoded  \n",
            "year                   -0.137582              0.013433  \n",
            "price                   0.411451              0.140648  \n",
            "mileage                 0.214692             -0.029242  \n",
            "tax                     0.185439              0.089790  \n",
            "mpg                    -0.262239             -0.174245  \n",
            "engineSize              1.000000              0.142181  \n",
            "transmission_encoded    0.142181              1.000000  \n"
          ]
        }
      ]
    },
    {
      "cell_type": "code",
      "source": [
        "df = df.select_dtypes(include=['number'])\n"
      ],
      "metadata": {
        "id": "f9x_7b7B3APd"
      },
      "execution_count": null,
      "outputs": []
    },
    {
      "cell_type": "code",
      "source": [
        "constant_cols = [col for col in df.columns if df[col].nunique() == 1]\n",
        "print(\"Constant columns:\", constant_cols)\n",
        "\n",
        "df.drop(columns=constant_cols, inplace=True)"
      ],
      "metadata": {
        "colab": {
          "base_uri": "https://localhost:8080/"
        },
        "id": "iq_djwBU3IAH",
        "outputId": "bd2bd71e-3e6f-491f-e4b1-79c0be8ec5e4"
      },
      "execution_count": null,
      "outputs": [
        {
          "output_type": "stream",
          "name": "stdout",
          "text": [
            "Constant columns: []\n"
          ]
        }
      ]
    },
    {
      "cell_type": "code",
      "source": [
        "non_numeric_cols = df.select_dtypes(exclude=['number']).columns\n",
        "print(\"Non-numeric columns:\", non_numeric_cols)"
      ],
      "metadata": {
        "colab": {
          "base_uri": "https://localhost:8080/"
        },
        "id": "EavOer-_3Qkk",
        "outputId": "043d5159-62fd-4cde-8f3d-04df8f8e384e"
      },
      "execution_count": null,
      "outputs": [
        {
          "output_type": "stream",
          "name": "stdout",
          "text": [
            "Non-numeric columns: Index([], dtype='object')\n"
          ]
        }
      ]
    },
    {
      "cell_type": "code",
      "source": [
        "for col in non_numeric_cols:\n",
        "    df[col] = label_encoder.fit_transform(df[col])"
      ],
      "metadata": {
        "id": "RcMliLLe3TDR"
      },
      "execution_count": null,
      "outputs": []
    },
    {
      "cell_type": "code",
      "source": [
        "df = df.drop(columns=non_numeric_cols)"
      ],
      "metadata": {
        "id": "71GEyR3q3ZvQ"
      },
      "execution_count": null,
      "outputs": []
    },
    {
      "cell_type": "code",
      "source": [
        "print(df.isnull().sum())"
      ],
      "metadata": {
        "colab": {
          "base_uri": "https://localhost:8080/"
        },
        "id": "0rmc6otT3n92",
        "outputId": "6fabda45-fb80-43cd-81c4-e0190885ce42"
      },
      "execution_count": null,
      "outputs": [
        {
          "output_type": "stream",
          "name": "stdout",
          "text": [
            "year                    0\n",
            "price                   0\n",
            "mileage                 0\n",
            "tax                     0\n",
            "mpg                     0\n",
            "engineSize              0\n",
            "transmission_encoded    0\n",
            "dtype: int64\n"
          ]
        }
      ]
    },
    {
      "cell_type": "code",
      "source": [
        "print(df.dtypes)"
      ],
      "metadata": {
        "colab": {
          "base_uri": "https://localhost:8080/"
        },
        "id": "AzJNDaaZ3vX5",
        "outputId": "a19f1e9b-c172-4b98-e6eb-604b02320876"
      },
      "execution_count": null,
      "outputs": [
        {
          "output_type": "stream",
          "name": "stdout",
          "text": [
            "year                    float64\n",
            "price                   float64\n",
            "mileage                 float64\n",
            "tax                     float64\n",
            "mpg                     float64\n",
            "engineSize              float64\n",
            "transmission_encoded      int64\n",
            "dtype: object\n"
          ]
        }
      ]
    },
    {
      "cell_type": "code",
      "source": [
        "correlation_matrix = df.corr()\n",
        "print(correlation_matrix)\n",
        "\n",
        "plt.figure(figsize=(8, 6))\n",
        "sns.heatmap(correlation_matrix, annot=True, cmap='coolwarm', linewidths=0.5)\n",
        "\n",
        "plt.title('Correlation Matrix Heatmap')\n",
        "plt.show()"
      ],
      "metadata": {
        "colab": {
          "base_uri": "https://localhost:8080/",
          "height": 981
        },
        "id": "IOFtMJHw32Ls",
        "outputId": "86bb40fc-1eff-47d8-fd01-bd5f822f7aa7"
      },
      "execution_count": null,
      "outputs": [
        {
          "output_type": "stream",
          "name": "stdout",
          "text": [
            "                          year     price   mileage       tax       mpg  \\\n",
            "year                  1.000000  0.635715 -0.708690  0.297086 -0.021702   \n",
            "price                 0.635715  1.000000 -0.530483  0.405814 -0.346263   \n",
            "mileage              -0.708690 -0.530483  1.000000 -0.257402  0.117697   \n",
            "tax                   0.297086  0.405814 -0.257402  1.000000 -0.502198   \n",
            "mpg                  -0.021702 -0.346263  0.117697 -0.502198  1.000000   \n",
            "engineSize           -0.137582  0.411451  0.214692  0.185439 -0.262239   \n",
            "transmission_encoded  0.013433  0.140648 -0.029242  0.089790 -0.174245   \n",
            "\n",
            "                      engineSize  transmission_encoded  \n",
            "year                   -0.137582              0.013433  \n",
            "price                   0.411451              0.140648  \n",
            "mileage                 0.214692             -0.029242  \n",
            "tax                     0.185439              0.089790  \n",
            "mpg                    -0.262239             -0.174245  \n",
            "engineSize              1.000000              0.142181  \n",
            "transmission_encoded    0.142181              1.000000  \n"
          ]
        },
        {
          "output_type": "display_data",
          "data": {
            "text/plain": [
              "<Figure size 800x600 with 2 Axes>"
            ],
            "image/png": "[encoded data removed]"
          },
          "metadata": {}
        }
      ]
    },
    {
      "cell_type": "code",
      "source": [
        "threshold = 0.8\n",
        "\n",
        "high_correlation_pairs = correlation_matrix[(correlation_matrix > threshold) | (correlation_matrix < -threshold)].stack().reset_index()\n",
        "\n",
        "high_correlation_pairs = high_correlation_pairs[high_correlation_pairs['level_0'] != high_correlation_pairs['level_1']]\n",
        "\n",
        "print(high_correlation_pairs)\n"
      ],
      "metadata": {
        "colab": {
          "base_uri": "https://localhost:8080/"
        },
        "id": "J7aNbfCd4Fhv",
        "outputId": "9b7a62c5-1bd6-466c-9591-b8abf38fdfde"
      },
      "execution_count": null,
      "outputs": [
        {
          "output_type": "stream",
          "name": "stdout",
          "text": [
            "Empty DataFrame\n",
            "Columns: [level_0, level_1, 0]\n",
            "Index: []\n"
          ]
        }
      ]
    },
    {
      "cell_type": "code",
      "source": [
        "df.drop(['transmission_encoded'], axis=1, inplace=True)"
      ],
      "metadata": {
        "id": "jdnLBhsy4YdM"
      },
      "execution_count": null,
      "outputs": []
    },
    {
      "cell_type": "code",
      "source": [
        "scaler = StandardScaler()\n",
        "\n",
        "df_scaled = pd.DataFrame(scaler.fit_transform(df), columns=df.columns)\n",
        "\n",
        "print(df_scaled.head())\n"
      ],
      "metadata": {
        "colab": {
          "base_uri": "https://localhost:8080/"
        },
        "id": "rafHZNtq4nP-",
        "outputId": "7663369b-4be3-40b6-8668-5d48e36c625c"
      },
      "execution_count": null,
      "outputs": [
        {
          "output_type": "stream",
          "name": "stdout",
          "text": [
            "       year     price   mileage       tax       mpg  engineSize\n",
            "0  0.067059 -0.056915 -0.382994  0.000235 -0.020597   -0.810561\n",
            "1  0.554393  0.365369 -0.736317  0.000235 -0.020597   -0.810561\n",
            "2  0.067059  0.154227 -0.562616  0.000235 -0.020597   -0.810561\n",
            "3  1.041726  1.104366 -0.665405  0.000235 -1.737858    0.345325\n",
            "4  1.041726  0.893224 -1.127749  0.000235 -0.908836   -0.810561\n"
          ]
        }
      ]
    },
    {
      "cell_type": "code",
      "source": [
        "X = df_scaled.drop('price', axis=1)\n",
        "y = df_scaled['price']\n",
        "\n",
        "X_train, X_test, y_train, y_test = train_test_split(X, y, test_size=0.2, random_state=42)"
      ],
      "metadata": {
        "id": "m0mjIzq_6NB8"
      },
      "execution_count": null,
      "outputs": []
    },
    {
      "cell_type": "code",
      "source": [
        "scaler = StandardScaler()\n",
        "\n",
        "X_train_scaled = pd.DataFrame(scaler.fit_transform(X_train), columns=X_train.columns)\n",
        "\n",
        "X_test_scaled = pd.DataFrame(scaler.transform(X_test), columns=X_test.columns)\n",
        "\n",
        "print(\"Training set mean:\\n\", X_train_scaled.mean())\n",
        "print(\"Training set standard deviation:\\n\", X_train_scaled.std())"
      ],
      "metadata": {
        "colab": {
          "base_uri": "https://localhost:8080/"
        },
        "id": "mL_Vj34w5OCy",
        "outputId": "01c50d50-b9c5-42e3-d41d-77f32e143c80"
      },
      "execution_count": null,
      "outputs": [
        {
          "output_type": "stream",
          "name": "stdout",
          "text": [
            "Training set mean:\n",
            " year         -4.986615e-18\n",
            "mileage      -4.487953e-18\n",
            "tax          -6.632198e-17\n",
            "mpg          -1.495984e-18\n",
            "engineSize   -4.487953e-17\n",
            "dtype: float64\n",
            "Training set standard deviation:\n",
            " year          1.000035\n",
            "mileage       1.000035\n",
            "tax           1.000035\n",
            "mpg           1.000035\n",
            "engineSize    1.000035\n",
            "dtype: float64\n"
          ]
        }
      ]
    },
    {
      "cell_type": "markdown",
      "source": [
        "Lab 05 :"
      ],
      "metadata": {
        "id": "KT7-Nrin7MZ7"
      }
    },
    {
      "cell_type": "markdown",
      "source": [
        "Linear Regression"
      ],
      "metadata": {
        "id": "32JE5iva5-Au"
      }
    },
    {
      "cell_type": "code",
      "source": [
        "linear_model = LinearRegression()\n",
        "\n",
        "linear_model.fit(X_train_scaled, y_train)\n",
        "\n",
        "y_pred_train = linear_model.predict(X_train_scaled)\n",
        "y_pred_test = linear_model.predict(X_test_scaled)\n",
        "\n",
        "rmse_train = np.sqrt(mean_squared_error(y_train, y_pred_train))\n",
        "rmse_test = np.sqrt(mean_squared_error(y_test, y_pred_test))\n",
        "\n",
        "print(f\"Training RMSE: {rmse_train:.2f}\")\n",
        "print(f\"Testing RMSE: {rmse_test:.2f}\")"
      ],
      "metadata": {
        "colab": {
          "base_uri": "https://localhost:8080/"
        },
        "id": "TaQ9lcIJpd3T",
        "outputId": "03ec8f28-61c3-4940-d4fc-08940b90c472"
      },
      "execution_count": null,
      "outputs": [
        {
          "output_type": "stream",
          "name": "stdout",
          "text": [
            "Training RMSE: 0.52\n",
            "Testing RMSE: 0.56\n"
          ]
        }
      ]
    },
    {
      "cell_type": "markdown",
      "source": [
        "Logistic Regression"
      ],
      "metadata": {
        "id": "wQ19XMnN6Jft"
      }
    },
    {
      "cell_type": "code",
      "source": [
        "thresholds = [y_train.quantile(0.33), y_train.quantile(0.67)]\n",
        "\n",
        "y_train_cat = pd.cut(y_train, bins=[-np.inf, thresholds[0], thresholds[1], np.inf], labels=[0, 1, 2])\n",
        "y_test_cat = pd.cut(y_test, bins=[-np.inf, thresholds[0], thresholds[1], np.inf], labels=[0, 1, 2])\n",
        "\n",
        "logistic_model = LogisticRegression(max_iter=1000, random_state=42)\n",
        "logistic_model.fit(X_train_scaled, y_train_cat)\n",
        "\n",
        "y_pred_logistic = logistic_model.predict(X_test_scaled)\n",
        "\n",
        "accuracy = accuracy_score(y_test_cat, y_pred_logistic)\n",
        "print(f\"Logistic Regression Accuracy: {accuracy:.2f}\")"
      ],
      "metadata": {
        "colab": {
          "base_uri": "https://localhost:8080/"
        },
        "id": "SCtUjGsd6cbG",
        "outputId": "8377fde5-ca55-4a1f-941f-6ed02c3dfe46"
      },
      "execution_count": null,
      "outputs": [
        {
          "output_type": "stream",
          "name": "stdout",
          "text": [
            "Logistic Regression Accuracy: 0.75\n"
          ]
        }
      ]
    }
  ]
}